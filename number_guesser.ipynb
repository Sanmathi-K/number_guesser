{
 "cells": [
  {
   "cell_type": "code",
   "execution_count": 1,
   "metadata": {},
   "outputs": [
    {
     "name": "stdout",
     "output_type": "stream",
     "text": [
      "you were above the number!\n",
      "you were above the number!\n",
      "you were below the number! \n",
      "you got it!\n",
      "you got it in 4 guesses\n"
     ]
    }
   ],
   "source": [
    "import random\n",
    "top_range=input(\"enter a number\")\n",
    "if top_range.isdigit():\n",
    "    top_range=int(top_range)\n",
    "    if top_range<=0:\n",
    "        print(\"enter number greater than zero next time\")\n",
    "        quit()\n",
    "else:\n",
    "    print(\"please enter a number next time\")\n",
    "    quit()\n",
    "random_no=random.randrange(0,top_range)\n",
    "count=0\n",
    "while True:\n",
    "    count+=1\n",
    "    guess=input(\"make a guess\")\n",
    "    if guess.isdigit():\n",
    "        guess=int(guess)\n",
    "    else:\n",
    "        print(\"please enter a number next time\")\n",
    "        continue\n",
    "    if guess==random_no:\n",
    "        print(\"you got it!\")\n",
    "        break\n",
    "    else:\n",
    "        if guess>random_no:\n",
    "            print(\"you were above the number!\")\n",
    "        elif guess<random_no:\n",
    "            print(\"you were below the number! \")\n",
    "\n",
    "print(\"you got it in\",count,\"guesses\")\n",
    "\n",
    "\n"
   ]
  }
 ],
 "metadata": {
  "kernelspec": {
   "display_name": "Python 3",
   "language": "python",
   "name": "python3"
  },
  "language_info": {
   "codemirror_mode": {
    "name": "ipython",
    "version": 3
   },
   "file_extension": ".py",
   "mimetype": "text/x-python",
   "name": "python",
   "nbconvert_exporter": "python",
   "pygments_lexer": "ipython3",
   "version": "3.12.4"
  }
 },
 "nbformat": 4,
 "nbformat_minor": 2
}
